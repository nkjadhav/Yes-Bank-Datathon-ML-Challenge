{
 "cells": [
  {
   "cell_type": "markdown",
   "metadata": {
    "toc": true
   },
   "source": [
    "<h1>Table of Contents<span class=\"tocSkip\"></span></h1>\n",
    "<div class=\"toc\"><ul class=\"toc-item\"><li><span><a href=\"#Load-Libraries-and-dataset\" data-toc-modified-id=\"Load-Libraries-and-dataset-1\"><span class=\"toc-item-num\">1&nbsp;&nbsp;</span>Load Libraries and dataset</a></span></li><li><span><a href=\"#Visualise-Data\" data-toc-modified-id=\"Visualise-Data-2\"><span class=\"toc-item-num\">2&nbsp;&nbsp;</span>Visualise Data</a></span></li><li><span><a href=\"#Trim-non-contributing-data\" data-toc-modified-id=\"Trim-non-contributing-data-3\"><span class=\"toc-item-num\">3&nbsp;&nbsp;</span>Trim non-contributing data</a></span></li><li><span><a href=\"#Augmented-Dickey-Fuller-Test-to-check-if-Timeseries-is-stationary\" data-toc-modified-id=\"Augmented-Dickey-Fuller-Test-to-check-if-Timeseries-is-stationary-4\"><span class=\"toc-item-num\">4&nbsp;&nbsp;</span>Augmented Dickey-Fuller Test to check if Timeseries is stationary</a></span></li><li><span><a href=\"#Build-ARIMA-Model\" data-toc-modified-id=\"Build-ARIMA-Model-5\"><span class=\"toc-item-num\">5&nbsp;&nbsp;</span>Build ARIMA Model</a></span></li><li><span><a href=\"#Forcast-using-ARIMA-model\" data-toc-modified-id=\"Forcast-using-ARIMA-model-6\"><span class=\"toc-item-num\">6&nbsp;&nbsp;</span>Forcast using ARIMA model</a></span></li></ul></div>"
   ]
  },
  {
   "cell_type": "markdown",
   "metadata": {},
   "source": [
    "## Load Libraries and dataset"
   ]
  },
  {
   "cell_type": "code",
   "execution_count": 1,
   "metadata": {},
   "outputs": [],
   "source": [
    "library('ggplot2')\n",
    "library('forecast')\n",
    "library('tseries')\n",
    "\n",
    "daily_data = read.csv('Training_data.csv', header=TRUE, stringsAsFactors=FALSE)"
   ]
  },
  {
   "cell_type": "code",
   "execution_count": 2,
   "metadata": {
    "scrolled": true
   },
   "outputs": [
    {
     "data": {
      "text/html": [
       "<table>\n",
       "<thead><tr><th scope=col>serial_number</th><th scope=col>time_stamp</th><th scope=col>opening_value</th><th scope=col>highest_value</th><th scope=col>lowest_value</th><th scope=col>settle_value</th><th scope=col>volume_sell</th></tr></thead>\n",
       "<tbody>\n",
       "\t<tr><td>1         </td><td>2017-10-13</td><td>  0.0     </td><td>  0.0     </td><td>  0.0     </td><td>896.5     </td><td>1212      </td></tr>\n",
       "\t<tr><td>2         </td><td>2017-10-12</td><td>892.5     </td><td>892.5     </td><td>892.5     </td><td>892.5     </td><td> 304      </td></tr>\n",
       "\t<tr><td>3         </td><td>2017-10-11</td><td>894.0     </td><td>894.0     </td><td>894.0     </td><td>892.5     </td><td>  25      </td></tr>\n",
       "\t<tr><td>4         </td><td>2017-10-10</td><td>891.5     </td><td>896.5     </td><td>891.5     </td><td>896.5     </td><td> 298      </td></tr>\n",
       "\t<tr><td>5         </td><td>2017-10-09</td><td>  0.0     </td><td>  0.0     </td><td>  0.0     </td><td>885.0     </td><td> 188      </td></tr>\n",
       "\t<tr><td>6         </td><td>2017-10-06</td><td>889.5     </td><td>890.0     </td><td>885.5     </td><td>887.5     </td><td> 339      </td></tr>\n",
       "</tbody>\n",
       "</table>\n"
      ],
      "text/latex": [
       "\\begin{tabular}{r|lllllll}\n",
       " serial\\_number & time\\_stamp & opening\\_value & highest\\_value & lowest\\_value & settle\\_value & volume\\_sell\\\\\n",
       "\\hline\n",
       "\t 1          & 2017-10-13 &   0.0      &   0.0      &   0.0      & 896.5      & 1212      \\\\\n",
       "\t 2          & 2017-10-12 & 892.5      & 892.5      & 892.5      & 892.5      &  304      \\\\\n",
       "\t 3          & 2017-10-11 & 894.0      & 894.0      & 894.0      & 892.5      &   25      \\\\\n",
       "\t 4          & 2017-10-10 & 891.5      & 896.5      & 891.5      & 896.5      &  298      \\\\\n",
       "\t 5          & 2017-10-09 &   0.0      &   0.0      &   0.0      & 885.0      &  188      \\\\\n",
       "\t 6          & 2017-10-06 & 889.5      & 890.0      & 885.5      & 887.5      &  339      \\\\\n",
       "\\end{tabular}\n"
      ],
      "text/markdown": [
       "\n",
       "serial_number | time_stamp | opening_value | highest_value | lowest_value | settle_value | volume_sell | \n",
       "|---|---|---|---|---|---|\n",
       "| 1          | 2017-10-13 |   0.0      |   0.0      |   0.0      | 896.5      | 1212       | \n",
       "| 2          | 2017-10-12 | 892.5      | 892.5      | 892.5      | 892.5      |  304       | \n",
       "| 3          | 2017-10-11 | 894.0      | 894.0      | 894.0      | 892.5      |   25       | \n",
       "| 4          | 2017-10-10 | 891.5      | 896.5      | 891.5      | 896.5      |  298       | \n",
       "| 5          | 2017-10-09 |   0.0      |   0.0      |   0.0      | 885.0      |  188       | \n",
       "| 6          | 2017-10-06 | 889.5      | 890.0      | 885.5      | 887.5      |  339       | \n",
       "\n",
       "\n"
      ],
      "text/plain": [
       "  serial_number time_stamp opening_value highest_value lowest_value\n",
       "1 1             2017-10-13   0.0           0.0           0.0       \n",
       "2 2             2017-10-12 892.5         892.5         892.5       \n",
       "3 3             2017-10-11 894.0         894.0         894.0       \n",
       "4 4             2017-10-10 891.5         896.5         891.5       \n",
       "5 5             2017-10-09   0.0           0.0           0.0       \n",
       "6 6             2017-10-06 889.5         890.0         885.5       \n",
       "  settle_value volume_sell\n",
       "1 896.5        1212       \n",
       "2 892.5         304       \n",
       "3 892.5          25       \n",
       "4 896.5         298       \n",
       "5 885.0         188       \n",
       "6 887.5         339       "
      ]
     },
     "metadata": {},
     "output_type": "display_data"
    }
   ],
   "source": [
    "head(daily_data)"
   ]
  },
  {
   "cell_type": "markdown",
   "metadata": {},
   "source": [
    "## Visualise Data"
   ]
  },
  {
   "cell_type": "code",
   "execution_count": 3,
   "metadata": {},
   "outputs": [
    {
     "data": {},
     "metadata": {},
     "output_type": "display_data"
    },
    {
     "data": {
      "image/png": "[encoded data removed]",
      "text/plain": [
       "plot without title"
      ]
     },
     "metadata": {},
     "output_type": "display_data"
    }
   ],
   "source": [
    "daily_data$Date = as.Date(daily_data$time_stamp)\n",
    "\n",
    "ggplot(daily_data, aes(Date, daily_data$volume_sell)) + geom_line() + scale_x_date('month')  + ylab(\"Volume Sell\") +\n",
    "            xlab(\"\")"
   ]
  },
  {
   "cell_type": "markdown",
   "metadata": {},
   "source": [
    "## Trim non-contributing data"
   ]
  },
  {
   "cell_type": "code",
   "execution_count": 4,
   "metadata": {
    "scrolled": false
   },
   "outputs": [
    {
     "data": {},
     "metadata": {},
     "output_type": "display_data"
    },
    {
     "data": {
      "image/png": "[encoded data removed]",
      "text/plain": [
       "plot without title"
      ]
     },
     "metadata": {},
     "output_type": "display_data"
    }
   ],
   "source": [
    "daily_data<-daily_data[1:310,]\n",
    "daily_data$Date = as.Date(daily_data$time_stamp)\n",
    "\n",
    "ggplot(daily_data, aes(Date, daily_data$volume_sell)) + geom_line() + scale_x_date('month')  + ylab(\"Volume Sell\") +\n",
    "            xlab(\"\")"
   ]
  },
  {
   "cell_type": "markdown",
   "metadata": {},
   "source": [
    "## Augmented Dickey-Fuller Test to check if Timeseries is stationary"
   ]
  },
  {
   "cell_type": "code",
   "execution_count": 5,
   "metadata": {},
   "outputs": [
    {
     "name": "stderr",
     "output_type": "stream",
     "text": [
      "Warning message in adf.test(daily_data$volume_sell):\n",
      "\"p-value smaller than printed p-value\""
     ]
    },
    {
     "data": {
      "text/plain": [
       "\n",
       "\tAugmented Dickey-Fuller Test\n",
       "\n",
       "data:  daily_data$volume_sell\n",
       "Dickey-Fuller = -5.5747, Lag order = 6, p-value = 0.01\n",
       "alternative hypothesis: stationary\n"
      ]
     },
     "metadata": {},
     "output_type": "display_data"
    },
    {
     "name": "stdout",
     "output_type": "stream",
     "text": [
      "With a p-value of 0.01 can accept data as stationary"
     ]
    }
   ],
   "source": [
    "adf_test<-adf.test(daily_data$volume_sell)\n",
    "adf_test\n",
    "cat(\"With a p-value of\", as.numeric(adf_test[4]), \"can accept data as\", as.character(adf_test[3]))"
   ]
  },
  {
   "cell_type": "markdown",
   "metadata": {},
   "source": [
    "## Build ARIMA Model"
   ]
  },
  {
   "cell_type": "code",
   "execution_count": 6,
   "metadata": {},
   "outputs": [
    {
     "data": {
      "text/plain": [
       "Series: pricearima \n",
       "ARIMA(1,0,2) with non-zero mean \n",
       "\n",
       "Coefficients:\n",
       "         ar1      ma1     ma2       mean\n",
       "      0.5775  -0.5883  0.2181  1309.6944\n",
       "s.e.  0.1998   0.2017  0.0579   329.0256\n",
       "\n",
       "sigma^2 estimated as 15410263:  log likelihood=-3003.27\n",
       "AIC=6016.53   AICc=6016.73   BIC=6035.21"
      ]
     },
     "metadata": {},
     "output_type": "display_data"
    },
    {
     "data": {
      "image/png": "[encoded data removed]",
      "text/plain": [
       "Plot with title \"Price\""
      ]
     },
     "metadata": {},
     "output_type": "display_data"
    }
   ],
   "source": [
    "#Time series and auto.arima\n",
    "daily_data<- daily_data[seq(dim(daily_data)[1],1),]\n",
    "pricearima <- ts(daily_data$volume_sell, start = c(2016,08,01), frequency = 1)\n",
    "fitlnstock<-auto.arima(pricearima)\n",
    "fitlnstock\n",
    "plot(pricearima,type='l')\n",
    "title('Price')\n",
    "#exp(lnstock)"
   ]
  },
  {
   "cell_type": "markdown",
   "metadata": {},
   "source": [
    "## Forcast using ARIMA model"
   ]
  },
  {
   "cell_type": "code",
   "execution_count": 7,
   "metadata": {
    "scrolled": false
   },
   "outputs": [
    {
     "data": {
      "image/png": "[encoded data removed]",
      "text/plain": [
       "Plot with title \"Forecasts from ARIMA(1,0,2) with non-zero mean\""
      ]
     },
     "metadata": {},
     "output_type": "display_data"
    }
   ],
   "source": [
    "#Forecasted Values From ARIMA\n",
    "\n",
    "# Forcast next 300 days (Test data of 298 and void gap of two days inbetween train and test data)\n",
    "finalforecastvalues=forecast(fitlnstock,h=300)\n",
    "\n",
    "#finalforecastvalues\n",
    "plot(finalforecastvalues)\n",
    "\n",
    "write.csv(finalforecastvalues, file = \"MyData.csv\") # Save prediction dataframe to file for later processing"
   ]
  }
 ],
 "metadata": {
  "kernelspec": {
   "display_name": "R",
   "language": "R",
   "name": "ir"
  },
  "language_info": {
   "codemirror_mode": "r",
   "file_extension": ".r",
   "mimetype": "text/x-r-source",
   "name": "R",
   "pygments_lexer": "r",
   "version": "3.5.1"
  },
  "toc": {
   "base_numbering": 1,
   "nav_menu": {},
   "number_sections": true,
   "sideBar": true,
   "skip_h1_title": false,
   "title_cell": "Table of Contents",
   "title_sidebar": "Contents",
   "toc_cell": true,
   "toc_position": {},
   "toc_section_display": true,
   "toc_window_display": false
  },
  "varInspector": {
   "cols": {
    "lenName": 16,
    "lenType": 16,
    "lenVar": 40
   },
   "kernels_config": {
    "python": {
     "delete_cmd_postfix": "",
     "delete_cmd_prefix": "del ",
     "library": "var_list.py",
     "varRefreshCmd": "print(var_dic_list())"
    },
    "r": {
     "delete_cmd_postfix": ") ",
     "delete_cmd_prefix": "rm(",
     "library": "var_list.r",
     "varRefreshCmd": "cat(var_dic_list()) "
    }
   },
   "types_to_exclude": [
    "module",
    "function",
    "builtin_function_or_method",
    "instance",
    "_Feature"
   ],
   "window_display": false
  }
 },
 "nbformat": 4,
 "nbformat_minor": 2
}
